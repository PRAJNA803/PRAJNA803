{
 "cells": [
  {
   "cell_type": "code",
   "execution_count": 1,
   "id": "23f4f461",
   "metadata": {
    "execution": {
     "iopub.execute_input": "2024-11-23T05:33:36.085842Z",
     "iopub.status.busy": "2024-11-23T05:33:36.085312Z",
     "iopub.status.idle": "2024-11-23T05:33:36.097254Z",
     "shell.execute_reply": "2024-11-23T05:33:36.096124Z"
    },
    "papermill": {
     "duration": 0.018351,
     "end_time": "2024-11-23T05:33:36.099841",
     "exception": false,
     "start_time": "2024-11-23T05:33:36.081490",
     "status": "completed"
    },
    "tags": []
   },
   "outputs": [
    {
     "name": "stdout",
     "output_type": "stream",
     "text": [
      "The sum of 1.5 and 6.3 is 7.8\n"
     ]
    }
   ],
   "source": [
    "# This program adds two numbers\n",
    "\n",
    "num1 = 1.5\n",
    "num2 = 6.3\n",
    "\n",
    "# Add two numbers\n",
    "sum = num1 + num2\n",
    "\n",
    "# Display the sum\n",
    "print('The sum of {0} and {1} is {2}'.format(num1, num2, sum))\n"
   ]
  }
 ],
 "metadata": {
  "kaggle": {
   "accelerator": "none",
   "dataSources": [],
   "isGpuEnabled": false,
   "isInternetEnabled": false,
   "language": "python",
   "sourceType": "notebook"
  },
  "kernelspec": {
   "display_name": "Python 3",
   "language": "python",
   "name": "python3"
  },
  "language_info": {
   "codemirror_mode": {
    "name": "ipython",
    "version": 3
   },
   "file_extension": ".py",
   "mimetype": "text/x-python",
   "name": "python",
   "nbconvert_exporter": "python",
   "pygments_lexer": "ipython3",
   "version": "3.10.14"
  },
  "papermill": {
   "default_parameters": {},
   "duration": 3.319654,
   "end_time": "2024-11-23T05:33:36.523464",
   "environment_variables": {},
   "exception": null,
   "input_path": "__notebook__.ipynb",
   "output_path": "__notebook__.ipynb",
   "parameters": {},
   "start_time": "2024-11-23T05:33:33.203810",
   "version": "2.6.0"
  }
 },
 "nbformat": 4,
 "nbformat_minor": 5
}
