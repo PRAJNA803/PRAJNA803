{
 "cells": [
  {
   "cell_type": "code",
   "execution_count": 1,
   "id": "93378c88",
   "metadata": {
    "execution": {
     "iopub.execute_input": "2024-11-23T05:33:03.598355Z",
     "iopub.status.busy": "2024-11-23T05:33:03.597898Z",
     "iopub.status.idle": "2024-11-23T05:33:03.609760Z",
     "shell.execute_reply": "2024-11-23T05:33:03.608199Z"
    },
    "papermill": {
     "duration": 0.018477,
     "end_time": "2024-11-23T05:33:03.612601",
     "exception": false,
     "start_time": "2024-11-23T05:33:03.594124",
     "status": "completed"
    },
    "tags": []
   },
   "outputs": [
    {
     "name": "stdout",
     "output_type": "stream",
     "text": [
      "The sum of 1.5 and 6.3 is 7.8\n"
     ]
    }
   ],
   "source": [
    "# This program adds two numbers\n",
    "\n",
    "num1 = 1.5\n",
    "num2 = 6.3\n",
    "\n",
    "# Add two numbers\n",
    "sum = num1 + num2\n",
    "\n",
    "# Display the sum\n",
    "print('The sum of {0} and {1} is {2}'.format(num1, num2, sum))\n"
   ]
  }
 ],
 "metadata": {
  "kaggle": {
   "accelerator": "none",
   "dataSources": [],
   "isGpuEnabled": false,
   "isInternetEnabled": false,
   "language": "python",
   "sourceType": "notebook"
  },
  "kernelspec": {
   "display_name": "Python 3",
   "language": "python",
   "name": "python3"
  },
  "language_info": {
   "codemirror_mode": {
    "name": "ipython",
    "version": 3
   },
   "file_extension": ".py",
   "mimetype": "text/x-python",
   "name": "python",
   "nbconvert_exporter": "python",
   "pygments_lexer": "ipython3",
   "version": "3.10.14"
  },
  "papermill": {
   "default_parameters": {},
   "duration": 3.341831,
   "end_time": "2024-11-23T05:33:04.034701",
   "environment_variables": {},
   "exception": null,
   "input_path": "__notebook__.ipynb",
   "output_path": "__notebook__.ipynb",
   "parameters": {},
   "start_time": "2024-11-23T05:33:00.692870",
   "version": "2.6.0"
  }
 },
 "nbformat": 4,
 "nbformat_minor": 5
}
